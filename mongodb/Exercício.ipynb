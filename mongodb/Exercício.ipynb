{
 "cells": [
  {
   "cell_type": "markdown",
   "metadata": {},
   "source": [
    "# Exercício\n",
    "Desenvolva um pequeno programa que crie documentos e salve em uma coleção e siga os seguintes pontos:\n",
    "\n",
    "1. O documento deve possuir dois campos (val1 e val2) numéricos com valores aleatórios de 0 a 100.\n",
    "1. Gere e insira pelo menos 1 milhão de documentos (meça o tempo de inserção total).\n",
    "1. Realize uma consulta por valores em val1 entre 0 e 10 e meça o tempo.\n",
    "1. Crie um índice pelo campo val1.\n",
    "1. Repita a consulta anterior medindo o tempo. O que ocorre?\n",
    "1. Agora repita a consulta anterior retornando apenas o campo val1 (utilize projeção para remover o _id e val2). O que ocorre?\n",
    "1. Insira mais 1 milhão de registros."
   ]
  },
  {
   "cell_type": "markdown",
   "metadata": {},
   "source": [
    "Docker com o MongoDB:\n",
    "\n",
    "```bash\n",
    "docker run -p 27017:27017 --name exercicio-mongo -v /home/mongo:/data/ -d mongo\n",
    "```"
   ]
  },
  {
   "cell_type": "markdown",
   "metadata": {},
   "source": [
    "# Resolução"
   ]
  },
  {
   "cell_type": "code",
   "execution_count": 8,
   "metadata": {
    "ExecuteTime": {
     "end_time": "2019-10-16T13:14:55.901658Z",
     "start_time": "2019-10-16T13:14:55.897685Z"
    }
   },
   "outputs": [],
   "source": [
    "import pymongo\n",
    "from random import randrange"
   ]
  },
  {
   "cell_type": "code",
   "execution_count": 2,
   "metadata": {
    "ExecuteTime": {
     "end_time": "2019-10-16T13:14:12.003466Z",
     "start_time": "2019-10-16T13:14:11.938428Z"
    }
   },
   "outputs": [],
   "source": [
    "# MongoClient\n",
    "client = pymongo.MongoClient('mongodb://localhost:27017/')\n",
    "# Database\n",
    "db = client['exercicio_mongo']\n",
    "# Collection\n",
    "indexes = db['indexes']"
   ]
  },
  {
   "cell_type": "code",
   "execution_count": 3,
   "metadata": {
    "ExecuteTime": {
     "end_time": "2019-10-16T13:14:12.128765Z",
     "start_time": "2019-10-16T13:14:12.007365Z"
    }
   },
   "outputs": [
    {
     "data": {
      "text/plain": [
       "{'version': '4.2.0',\n",
       " 'gitVersion': 'a4b751dcf51dd249c5865812b390cfd1c0129c30',\n",
       " 'modules': [],\n",
       " 'allocator': 'tcmalloc',\n",
       " 'javascriptEngine': 'mozjs',\n",
       " 'sysInfo': 'deprecated',\n",
       " 'versionArray': [4, 2, 0, 0],\n",
       " 'openssl': {'running': 'OpenSSL 1.1.1  11 Sep 2018',\n",
       "  'compiled': 'OpenSSL 1.1.1  11 Sep 2018'},\n",
       " 'buildEnvironment': {'distmod': 'ubuntu1804',\n",
       "  'distarch': 'x86_64',\n",
       "  'cc': '/opt/mongodbtoolchain/v3/bin/gcc: gcc (GCC) 8.2.0',\n",
       "  'ccflags': '-fno-omit-frame-pointer -fno-strict-aliasing -ggdb -pthread -Wall -Wsign-compare -Wno-unknown-pragmas -Winvalid-pch -Werror -O2 -Wno-unused-local-typedefs -Wno-unused-function -Wno-deprecated-declarations -Wno-unused-const-variable -Wno-unused-but-set-variable -Wno-missing-braces -fstack-protector-strong -fno-builtin-memcmp',\n",
       "  'cxx': '/opt/mongodbtoolchain/v3/bin/g++: g++ (GCC) 8.2.0',\n",
       "  'cxxflags': '-Woverloaded-virtual -Wno-maybe-uninitialized -fsized-deallocation -std=c++17',\n",
       "  'linkflags': '-pthread -Wl,-z,now -rdynamic -Wl,--fatal-warnings -fstack-protector-strong -fuse-ld=gold -Wl,--build-id -Wl,--hash-style=gnu -Wl,-z,noexecstack -Wl,--warn-execstack -Wl,-z,relro',\n",
       "  'target_arch': 'x86_64',\n",
       "  'target_os': 'linux'},\n",
       " 'bits': 64,\n",
       " 'debug': False,\n",
       " 'maxBsonObjectSize': 16777216,\n",
       " 'storageEngines': ['biggie', 'devnull', 'ephemeralForTest', 'wiredTiger'],\n",
       " 'ok': 1.0}"
      ]
     },
     "execution_count": 3,
     "metadata": {},
     "output_type": "execute_result"
    }
   ],
   "source": [
    "client.server_info()"
   ]
  },
  {
   "cell_type": "markdown",
   "metadata": {},
   "source": [
    "1. O documento deve possuir dois campos (val1 e val2) numéricos com valores aleatórios de 0 a 100."
   ]
  },
  {
   "cell_type": "code",
   "execution_count": 4,
   "metadata": {
    "ExecuteTime": {
     "end_time": "2019-10-16T13:14:13.977832Z",
     "start_time": "2019-10-16T13:14:12.131663Z"
    }
   },
   "outputs": [],
   "source": [
    "# Quantidade de documentos\n",
    "docs_num = 1000000\n",
    "# Documentos gerados\n",
    "indexes_data = [\n",
    "    {\n",
    "        'val1': randrange(100),\n",
    "        'val2': randrange(100),\n",
    "    } for i in range(docs_num)\n",
    "]"
   ]
  },
  {
   "cell_type": "markdown",
   "metadata": {},
   "source": [
    "2. Gere e insira pelo menos 1 milhão de documentos (meça o tempo de inserção total)."
   ]
  },
  {
   "cell_type": "code",
   "execution_count": 5,
   "metadata": {
    "ExecuteTime": {
     "end_time": "2019-10-16T13:14:26.577135Z",
     "start_time": "2019-10-16T13:14:13.979701Z"
    }
   },
   "outputs": [
    {
     "name": "stdout",
     "output_type": "stream",
     "text": [
      "CPU times: user 8.54 s, sys: 232 ms, total: 8.77 s\n",
      "Wall time: 12.6 s\n"
     ]
    },
    {
     "data": {
      "text/plain": [
       "<pymongo.results.InsertManyResult at 0x7f4d99a87c08>"
      ]
     },
     "execution_count": 5,
     "metadata": {},
     "output_type": "execute_result"
    }
   ],
   "source": [
    "%%time\n",
    "# Inserção\n",
    "indexes.insert_many(indexes_data)"
   ]
  },
  {
   "cell_type": "markdown",
   "metadata": {},
   "source": [
    "3. Realize uma consulta por valores em val1 entre 0 e 10 e meça o tempo."
   ]
  },
  {
   "cell_type": "code",
   "execution_count": 6,
   "metadata": {
    "ExecuteTime": {
     "end_time": "2019-10-16T13:14:27.518996Z",
     "start_time": "2019-10-16T13:14:26.578937Z"
    }
   },
   "outputs": [
    {
     "name": "stdout",
     "output_type": "stream",
     "text": [
      "CPU times: user 460 ms, sys: 4 µs, total: 460 ms\n",
      "Wall time: 936 ms\n"
     ]
    }
   ],
   "source": [
    "%%time\n",
    "cursor = indexes.find({\n",
    "    'val1': {\n",
    "        '$gte': 0,\n",
    "        '$lte': 10,\n",
    "    }\n",
    "})\n",
    "\n",
    "for c in cursor:\n",
    "    pass"
   ]
  },
  {
   "cell_type": "markdown",
   "metadata": {},
   "source": [
    "4. Crie um índice pelo campo val1."
   ]
  },
  {
   "cell_type": "code",
   "execution_count": 9,
   "metadata": {
    "ExecuteTime": {
     "end_time": "2019-10-16T13:15:06.265913Z",
     "start_time": "2019-10-16T13:15:02.429076Z"
    }
   },
   "outputs": [
    {
     "data": {
      "text/plain": [
       "'val1_1'"
      ]
     },
     "execution_count": 9,
     "metadata": {},
     "output_type": "execute_result"
    }
   ],
   "source": [
    "# Criando index\n",
    "indexes.create_index([('val1', pymongo.ASCENDING)])"
   ]
  },
  {
   "cell_type": "markdown",
   "metadata": {},
   "source": [
    "5. Repita a consulta anterior medindo o tempo. O que ocorre?"
   ]
  },
  {
   "cell_type": "code",
   "execution_count": 10,
   "metadata": {
    "ExecuteTime": {
     "end_time": "2019-10-16T13:15:12.953924Z",
     "start_time": "2019-10-16T13:15:12.491348Z"
    }
   },
   "outputs": [
    {
     "name": "stdout",
     "output_type": "stream",
     "text": [
      "CPU times: user 257 ms, sys: 4.02 ms, total: 261 ms\n",
      "Wall time: 458 ms\n"
     ]
    }
   ],
   "source": [
    "%%time\n",
    "# Busca\n",
    "cursor = indexes.find({\n",
    "    'val1': {\n",
    "        '$gte': 0,\n",
    "        '$lte': 10,\n",
    "    }\n",
    "})\n",
    "\n",
    "for c in cursor:\n",
    "    pass"
   ]
  },
  {
   "cell_type": "markdown",
   "metadata": {},
   "source": [
    "6. Agora repita a consulta anterior retornando apenas o campo val1 (utilize projeção para remover o _id e val2). O que ocorre?"
   ]
  },
  {
   "cell_type": "code",
   "execution_count": 11,
   "metadata": {
    "ExecuteTime": {
     "end_time": "2019-10-16T13:15:19.397058Z",
     "start_time": "2019-10-16T13:15:18.959063Z"
    }
   },
   "outputs": [
    {
     "name": "stdout",
     "output_type": "stream",
     "text": [
      "CPU times: user 168 ms, sys: 69 µs, total: 168 ms\n",
      "Wall time: 432 ms\n"
     ]
    }
   ],
   "source": [
    "%%time\n",
    "# Busca com apenas o campo val1\n",
    "cursor = indexes.find({\n",
    "    'val1': {\n",
    "        '$gte': 0,\n",
    "        '$lte': 10,\n",
    "    }\n",
    "}, {\n",
    "    '_id': 0,\n",
    "    'val2': 0,\n",
    "})\n",
    "\n",
    "for c in cursor:\n",
    "    pass"
   ]
  },
  {
   "cell_type": "markdown",
   "metadata": {},
   "source": [
    "7. Insira mais 1 milhão de registros."
   ]
  },
  {
   "cell_type": "code",
   "execution_count": 12,
   "metadata": {
    "ExecuteTime": {
     "end_time": "2019-10-16T13:15:27.115347Z",
     "start_time": "2019-10-16T13:15:25.418166Z"
    }
   },
   "outputs": [],
   "source": [
    "# Novos documentos gerados\n",
    "indexes_data_new = [\n",
    "    {\n",
    "        'val1': randrange(100),\n",
    "        'val2': randrange(100),\n",
    "    } for i in range(docs_num)\n",
    "]"
   ]
  },
  {
   "cell_type": "code",
   "execution_count": 13,
   "metadata": {
    "ExecuteTime": {
     "end_time": "2019-10-16T13:15:51.872316Z",
     "start_time": "2019-10-16T13:15:35.116770Z"
    }
   },
   "outputs": [
    {
     "name": "stdout",
     "output_type": "stream",
     "text": [
      "CPU times: user 9.41 s, sys: 300 ms, total: 9.71 s\n",
      "Wall time: 16.8 s\n"
     ]
    },
    {
     "data": {
      "text/plain": [
       "<pymongo.results.InsertManyResult at 0x7f4d83d1df88>"
      ]
     },
     "execution_count": 13,
     "metadata": {},
     "output_type": "execute_result"
    }
   ],
   "source": [
    "%%time\n",
    "# Inserção\n",
    "indexes.insert_many(indexes_data_new)"
   ]
  },
  {
   "cell_type": "markdown",
   "metadata": {},
   "source": [
    "# Resumo\n",
    "Valores do _time_ antes e após a indexação.\n",
    "\n",
    "| Operação | Antes da indexação | Depois da indexação |\n",
    "| -------- | ----- | ------ |\n",
    "| Inserção | 9.01 s |14.1 s |\n",
    "| Busca | 1.21 s | 464 ms |\n",
    "| Busca com Projeção | - | 423 ms |"
   ]
  },
  {
   "cell_type": "code",
   "execution_count": 14,
   "metadata": {
    "ExecuteTime": {
     "end_time": "2019-10-16T13:16:04.685136Z",
     "start_time": "2019-10-16T13:16:04.679424Z"
    }
   },
   "outputs": [
    {
     "name": "stdout",
     "output_type": "stream",
     "text": [
      "{'_id': ObjectId('5da717a5429696fe514789bc'), 'val1': 1, 'val2': 12}\n",
      "{'_id': ObjectId('5da717a5429696fe514789bd'), 'val1': 5, 'val2': 27}\n",
      "{'_id': ObjectId('5da717a5429696fe514789be'), 'val1': 35, 'val2': 92}\n",
      "{'_id': ObjectId('5da717a5429696fe514789bf'), 'val1': 58, 'val2': 90}\n",
      "{'_id': ObjectId('5da717a5429696fe514789c0'), 'val1': 57, 'val2': 28}\n",
      "{'_id': ObjectId('5da717a5429696fe514789c1'), 'val1': 67, 'val2': 97}\n",
      "{'_id': ObjectId('5da717a5429696fe514789c2'), 'val1': 27, 'val2': 65}\n",
      "{'_id': ObjectId('5da717a5429696fe514789c3'), 'val1': 79, 'val2': 76}\n",
      "{'_id': ObjectId('5da717a5429696fe514789c4'), 'val1': 42, 'val2': 0}\n",
      "{'_id': ObjectId('5da717a5429696fe514789c5'), 'val1': 53, 'val2': 69}\n"
     ]
    }
   ],
   "source": [
    "for i in indexes.find()[:10]:\n",
    "    print(i)"
   ]
  },
  {
   "cell_type": "code",
   "execution_count": null,
   "metadata": {},
   "outputs": [],
   "source": []
  },
  {
   "cell_type": "code",
   "execution_count": null,
   "metadata": {},
   "outputs": [],
   "source": []
  }
 ],
 "metadata": {
  "kernelspec": {
   "display_name": "Python 3",
   "language": "python",
   "name": "python3"
  },
  "language_info": {
   "codemirror_mode": {
    "name": "ipython",
    "version": 3
   },
   "file_extension": ".py",
   "mimetype": "text/x-python",
   "name": "python",
   "nbconvert_exporter": "python",
   "pygments_lexer": "ipython3",
   "version": "3.7.3"
  },
  "toc": {
   "base_numbering": 1,
   "nav_menu": {},
   "number_sections": true,
   "sideBar": true,
   "skip_h1_title": false,
   "title_cell": "Table of Contents",
   "title_sidebar": "Contents",
   "toc_cell": false,
   "toc_position": {},
   "toc_section_display": true,
   "toc_window_display": false
  },
  "varInspector": {
   "cols": {
    "lenName": 16,
    "lenType": 16,
    "lenVar": 40
   },
   "kernels_config": {
    "python": {
     "delete_cmd_postfix": "",
     "delete_cmd_prefix": "del ",
     "library": "var_list.py",
     "varRefreshCmd": "print(var_dic_list())"
    },
    "r": {
     "delete_cmd_postfix": ") ",
     "delete_cmd_prefix": "rm(",
     "library": "var_list.r",
     "varRefreshCmd": "cat(var_dic_list()) "
    }
   },
   "types_to_exclude": [
    "module",
    "function",
    "builtin_function_or_method",
    "instance",
    "_Feature"
   ],
   "window_display": false
  }
 },
 "nbformat": 4,
 "nbformat_minor": 2
}
